{
 "cells": [
  {
   "cell_type": "code",
   "execution_count": 1,
   "id": "1af0cba1-c90f-4760-8eac-aaa9238f8092",
   "metadata": {},
   "outputs": [],
   "source": [
    "#****************************************************************************\n",
    "# (C) Cloudera, Inc. 2020-2023\n",
    "#  All rights reserved.\n",
    "#\n",
    "#  Applicable Open Source License: GNU Affero General Public License v3.0\n",
    "#\n",
    "#  NOTE: Cloudera open source products are modular software products\n",
    "#  made up of hundreds of individual components, each of which was\n",
    "#  individually copyrighted.  Each Cloudera open source product is a\n",
    "#  collective work under U.S. Copyright Law. Your license to use the\n",
    "#  collective work is as provided in your written agreement with\n",
    "#  Cloudera.  Used apart from the collective work, this file is\n",
    "#  licensed for your use pursuant to the open source license\n",
    "#  identified above.\n",
    "#\n",
    "#  This code is provided to you pursuant a written agreement with\n",
    "#  (i) Cloudera, Inc. or (ii) a third-party authorized to distribute\n",
    "#  this code. If you do not have a written agreement with Cloudera nor\n",
    "#  with an authorized and properly licensed third party, you do not\n",
    "#  have any rights to access nor to use this code.\n",
    "#\n",
    "#  Absent a written agreement with Cloudera, Inc. (“Cloudera”) to the\n",
    "#  contrary, A) CLOUDERA PROVIDES THIS CODE TO YOU WITHOUT WARRANTIES OF ANY\n",
    "#  KIND; (B) CLOUDERA DISCLAIMS ANY AND ALL EXPRESS AND IMPLIED\n",
    "#  WARRANTIES WITH RESPECT TO THIS CODE, INCLUDING BUT NOT LIMITED TO\n",
    "#  IMPLIED WARRANTIES OF TITLE, NON-INFRINGEMENT, MERCHANTABILITY AND\n",
    "#  FITNESS FOR A PARTICULAR PURPOSE; (C) CLOUDERA IS NOT LIABLE TO YOU,\n",
    "#  AND WILL NOT DEFEND, INDEMNIFY, NOR HOLD YOU HARMLESS FOR ANY CLAIMS\n",
    "#  ARISING FROM OR RELATED TO THE CODE; AND (D)WITH RESPECT TO YOUR EXERCISE\n",
    "#  OF ANY RIGHTS GRANTED TO YOU FOR THE CODE, CLOUDERA IS NOT LIABLE FOR ANY\n",
    "#  DIRECT, INDIRECT, INCIDENTAL, SPECIAL, EXEMPLARY, PUNITIVE OR\n",
    "#  CONSEQUENTIAL DAMAGES INCLUDING, BUT NOT LIMITED TO, DAMAGES\n",
    "#  RELATED TO LOST REVENUE, LOST PROFITS, LOSS OF INCOME, LOSS OF\n",
    "#  BUSINESS ADVANTAGE OR UNAVAILABILITY, OR LOSS OR CORRUPTION OF\n",
    "#  DATA.\n",
    "#\n",
    "# #  Author(s): Paul de Fusco\n",
    "#***************************************************************************/"
   ]
  },
  {
   "cell_type": "code",
   "execution_count": 2,
   "id": "4d2708ad-113d-4740-a62b-3c17826d97f2",
   "metadata": {},
   "outputs": [
    {
     "name": "stdout",
     "output_type": "stream",
     "text": [
      "Requirement already satisfied: open-inference-openapi in ./.local/lib/python3.11/site-packages (2.0.0.1)\n",
      "Requirement already satisfied: httpx in /usr/local/lib/python3.11/site-packages (from open-inference-openapi) (0.27.2)\n",
      "Requirement already satisfied: pydantic>1 in /usr/local/lib/python3.11/site-packages (from open-inference-openapi) (2.10.2)\n",
      "Requirement already satisfied: annotated-types>=0.6.0 in /usr/local/lib/python3.11/site-packages (from pydantic>1->open-inference-openapi) (0.7.0)\n",
      "Requirement already satisfied: pydantic-core==2.27.1 in /usr/local/lib/python3.11/site-packages (from pydantic>1->open-inference-openapi) (2.27.1)\n",
      "Requirement already satisfied: typing-extensions>=4.12.2 in /usr/local/lib/python3.11/site-packages (from pydantic>1->open-inference-openapi) (4.12.2)\n",
      "Requirement already satisfied: anyio in /usr/local/lib/python3.11/site-packages (from httpx->open-inference-openapi) (4.7.0)\n",
      "Requirement already satisfied: certifi in /usr/local/lib/python3.11/site-packages (from httpx->open-inference-openapi) (2024.7.4)\n",
      "Requirement already satisfied: httpcore==1.* in /usr/local/lib/python3.11/site-packages (from httpx->open-inference-openapi) (1.0.7)\n",
      "Requirement already satisfied: idna in /usr/local/lib/python3.11/site-packages (from httpx->open-inference-openapi) (3.7)\n",
      "Requirement already satisfied: sniffio in /usr/local/lib/python3.11/site-packages (from httpx->open-inference-openapi) (1.3.1)\n",
      "Requirement already satisfied: h11<0.15,>=0.13 in /usr/local/lib/python3.11/site-packages (from httpcore==1.*->httpx->open-inference-openapi) (0.14.0)\n"
     ]
    }
   ],
   "source": [
    "!pip3 install open-inference-openapi"
   ]
  },
  {
   "cell_type": "code",
   "execution_count": 3,
   "id": "549755f4-469d-4298-9571-62aaa612cf14",
   "metadata": {},
   "outputs": [],
   "source": [
    "from open_inference.openapi.client import OpenInferenceClient, InferenceRequest\n",
    "import httpx\n",
    "import requests\n",
    "import json\n",
    "\n",
    "JWT = json.load(open(\"/tmp/jwt\"))[\"access_token\"]\n",
    "headers = {'Authorization': 'Bearer ' + JWT,\n",
    "           'Content-Type': 'application/json'}\n",
    "\n",
    "httpx_client = httpx.Client(headers=headers)"
   ]
  },
  {
   "cell_type": "code",
   "execution_count": 4,
   "id": "8a34c570-ff8e-4141-a2ff-4f74a657ed5c",
   "metadata": {},
   "outputs": [
    {
     "data": {
      "text/plain": [
       "<Response [200 OK]>"
      ]
     },
     "execution_count": 4,
     "metadata": {},
     "output_type": "execute_result"
    }
   ],
   "source": [
    "CAII_DOMAIN_URL = 'https://ml-2dad9e26-62f.go01-dem.ylcu-atmi.cloudera.site'\n",
    "\n",
    "deploy_payload = {\n",
    " \"namespace\": \"serving-default\",\n",
    " \"name\": \"Onnx Sklearn from API\",\n",
    " \"source\": {\n",
    "   \"registry_source\": {\n",
    "      \"model_id\": \"unnq-sced-y5aw-0n08\",\n",
    "      \"version\": 2\n",
    "    }\n",
    "  },\n",
    " \"resources\": {\n",
    "    \"req_cpu\": \"2\",\n",
    "    \"req_memory\": \"8Gi\"\n",
    "  },\n",
    "  \"api_standard\": \"oip\",\n",
    "  \"has_chat_template\": False,\n",
    "  \"metric_format\": \"triton\",\n",
    "  \"task\": \"INFERENCE\",\n",
    "  \"instance_type\": \"m5.4xlarge\",\n",
    " \"autoscaling\": {\n",
    "    \"min_replicas\": \"1\",\n",
    "    \"max_replicas\": \"100\"\n",
    "  }\n",
    "}\n",
    "\n",
    "r = httpx_client.post(CAII_DOMAIN_URL+'/api/v1alpha1/deployEndpoint', json=deploy_payload)\n",
    "r"
   ]
  },
  {
   "cell_type": "code",
   "execution_count": null,
   "id": "3b472ee9-d3d9-4ab8-ae67-c851322d568d",
   "metadata": {},
   "outputs": [],
   "source": []
  }
 ],
 "metadata": {
  "kernelspec": {
   "display_name": "Python 3 (ipykernel)",
   "language": "python",
   "name": "python3"
  },
  "language_info": {
   "codemirror_mode": {
    "name": "ipython",
    "version": 3
   },
   "file_extension": ".py",
   "mimetype": "text/x-python",
   "name": "python",
   "nbconvert_exporter": "python",
   "pygments_lexer": "ipython3",
   "version": "3.11.11"
  }
 },
 "nbformat": 4,
 "nbformat_minor": 5
}
